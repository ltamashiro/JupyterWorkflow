{
 "cells": [
  {
   "cell_type": "markdown",
   "metadata": {},
   "source": [
    "**This a Initial Analysis\n"
   ]
  },
  {
   "cell_type": "code",
   "execution_count": 1,
   "metadata": {},
   "outputs": [
    {
     "data": {
      "text/plain": [
       "('2011_Active_Business_License_Data.csv',\n",
       " <http.client.HTTPMessage at 0x28cbb5502b0>)"
      ]
     },
     "execution_count": 1,
     "metadata": {},
     "output_type": "execute_result"
    }
   ],
   "source": [
    "import numpy as np\n",
    "import pandas as pd\n",
    "URL = 'https://data.seattle.gov/api/views/c3ri-wwcn/rows.csv?accessType=DOWNLOAD'\n",
    "from urllib.request import urlretrieve\n",
    "urlretrieve(URL, '2011_Active_Business_License_Data.csv')\n"
   ]
  },
  {
   "cell_type": "code",
   "execution_count": 2,
   "metadata": {},
   "outputs": [
    {
     "data": {
      "text/html": [
       "<div>\n",
       "<style>\n",
       "    .dataframe thead tr:only-child th {\n",
       "        text-align: right;\n",
       "    }\n",
       "\n",
       "    .dataframe thead th {\n",
       "        text-align: left;\n",
       "    }\n",
       "\n",
       "    .dataframe tbody tr th {\n",
       "        vertical-align: top;\n",
       "    }\n",
       "</style>\n",
       "<table border=\"1\" class=\"dataframe\">\n",
       "  <thead>\n",
       "    <tr style=\"text-align: right;\">\n",
       "      <th></th>\n",
       "      <th>Business Legal Name</th>\n",
       "      <th>Ownership Type</th>\n",
       "      <th>Trade Name</th>\n",
       "      <th>NAICS Code</th>\n",
       "      <th>NAICS Description</th>\n",
       "      <th>License Start Date</th>\n",
       "      <th>City, State, Zip</th>\n",
       "    </tr>\n",
       "  </thead>\n",
       "  <tbody>\n",
       "    <tr>\n",
       "      <th>0</th>\n",
       "      <td>FATUR ELIZABETH</td>\n",
       "      <td>Sole Proprietor</td>\n",
       "      <td>WHOLESOULART</td>\n",
       "      <td>454</td>\n",
       "      <td>Nonstore Retailers</td>\n",
       "      <td>02/01/2010 08:00:00 AM</td>\n",
       "      <td>SEATTLE, WA   98178</td>\n",
       "    </tr>\n",
       "    <tr>\n",
       "      <th>1</th>\n",
       "      <td>MARK A BROWN PS</td>\n",
       "      <td>Corporation</td>\n",
       "      <td>MARK A BROWN P.S.</td>\n",
       "      <td>541110</td>\n",
       "      <td>Offices of Lawyers</td>\n",
       "      <td>01/01/2009 08:00:00 AM</td>\n",
       "      <td>SEATTLE, WA   98101</td>\n",
       "    </tr>\n",
       "    <tr>\n",
       "      <th>2</th>\n",
       "      <td>VMC LLC</td>\n",
       "      <td>Corporation</td>\n",
       "      <td>CHARLIE'S DOG HOUSE</td>\n",
       "      <td>722330</td>\n",
       "      <td>Mobile Food Services</td>\n",
       "      <td>05/15/2010 07:00:00 AM</td>\n",
       "      <td>SEATTLE, WA   98106</td>\n",
       "    </tr>\n",
       "    <tr>\n",
       "      <th>3</th>\n",
       "      <td>GOBEZE ZERADAWIT G</td>\n",
       "      <td>Sole Proprietor</td>\n",
       "      <td>ZERADAWIT GOBEZE</td>\n",
       "      <td>485310</td>\n",
       "      <td>Taxi Service</td>\n",
       "      <td>05/11/2010 07:00:00 AM</td>\n",
       "      <td>SEA TAC, WA 98188</td>\n",
       "    </tr>\n",
       "    <tr>\n",
       "      <th>4</th>\n",
       "      <td>NOLAN PRIOR LLC</td>\n",
       "      <td>LLC*Limited Liability Co</td>\n",
       "      <td>NOLAN PRIOR LLC</td>\n",
       "      <td>525930</td>\n",
       "      <td>NaN</td>\n",
       "      <td>05/01/2010 07:00:00 AM</td>\n",
       "      <td>SEATTLE, WA 98136-1872</td>\n",
       "    </tr>\n",
       "  </tbody>\n",
       "</table>\n",
       "</div>"
      ],
      "text/plain": [
       "  Business Legal Name            Ownership Type           Trade Name  \\\n",
       "0     FATUR ELIZABETH           Sole Proprietor         WHOLESOULART   \n",
       "1     MARK A BROWN PS               Corporation    MARK A BROWN P.S.   \n",
       "2             VMC LLC               Corporation  CHARLIE'S DOG HOUSE   \n",
       "3  GOBEZE ZERADAWIT G           Sole Proprietor     ZERADAWIT GOBEZE   \n",
       "4     NOLAN PRIOR LLC  LLC*Limited Liability Co      NOLAN PRIOR LLC   \n",
       "\n",
       "   NAICS Code     NAICS Description      License Start Date  \\\n",
       "0         454    Nonstore Retailers  02/01/2010 08:00:00 AM   \n",
       "1      541110    Offices of Lawyers  01/01/2009 08:00:00 AM   \n",
       "2      722330  Mobile Food Services  05/15/2010 07:00:00 AM   \n",
       "3      485310          Taxi Service  05/11/2010 07:00:00 AM   \n",
       "4      525930                   NaN  05/01/2010 07:00:00 AM   \n",
       "\n",
       "         City, State, Zip  \n",
       "0     SEATTLE, WA   98178  \n",
       "1     SEATTLE, WA   98101  \n",
       "2     SEATTLE, WA   98106  \n",
       "3       SEA TAC, WA 98188  \n",
       "4  SEATTLE, WA 98136-1872  "
      ]
     },
     "execution_count": 2,
     "metadata": {},
     "output_type": "execute_result"
    }
   ],
   "source": [
    "df = pd.read_csv('2011_Active_Business_License_Data.csv')\n",
    "df.head(5)\n"
   ]
  },
  {
   "cell_type": "code",
   "execution_count": null,
   "metadata": {
    "collapsed": true
   },
   "outputs": [],
   "source": []
  }
 ],
 "metadata": {
  "kernelspec": {
   "display_name": "Python 3",
   "language": "python",
   "name": "python3"
  },
  "language_info": {
   "codemirror_mode": {
    "name": "ipython",
    "version": 3
   },
   "file_extension": ".py",
   "mimetype": "text/x-python",
   "name": "python",
   "nbconvert_exporter": "python",
   "pygments_lexer": "ipython3",
   "version": "3.6.3"
  }
 },
 "nbformat": 4,
 "nbformat_minor": 2
}
