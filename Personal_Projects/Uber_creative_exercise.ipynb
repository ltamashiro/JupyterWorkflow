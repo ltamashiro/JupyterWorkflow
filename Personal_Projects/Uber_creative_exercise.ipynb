{
 "cells": [
  {
   "cell_type": "markdown",
   "metadata": {},
   "source": [
    "![](Uber_Logo_Black_RGB.svg)"
   ]
  },
  {
   "cell_type": "markdown",
   "metadata": {},
   "source": [
    "# UBER creative exercise"
   ]
  },
  {
   "attachments": {},
   "cell_type": "markdown",
   "metadata": {},
   "source": [
    "## Assumptions:\n",
    " * Drivers can have more than 1 car registered in the platform\n",
    " * No driver has more than 1 driver_uuid\n",
    " * Data is not \"reliable\" (imagine someone sent you this and you cannot query this again)\n"
   ]
  },
  {
   "cell_type": "code",
   "execution_count": 1,
   "metadata": {
    "collapsed": true
   },
   "outputs": [],
   "source": [
    "import pandas as pd"
   ]
  },
  {
   "cell_type": "code",
   "execution_count": 2,
   "metadata": {
    "collapsed": true
   },
   "outputs": [],
   "source": [
    "df = pd.read_csv('uber_data.csv')"
   ]
  },
  {
   "cell_type": "code",
   "execution_count": 3,
   "metadata": {
    "scrolled": true
   },
   "outputs": [
    {
     "data": {
      "text/html": [
       "<div>\n",
       "<style scoped>\n",
       "    .dataframe tbody tr th:only-of-type {\n",
       "        vertical-align: middle;\n",
       "    }\n",
       "\n",
       "    .dataframe tbody tr th {\n",
       "        vertical-align: top;\n",
       "    }\n",
       "\n",
       "    .dataframe thead th {\n",
       "        text-align: right;\n",
       "    }\n",
       "</style>\n",
       "<table border=\"1\" class=\"dataframe\">\n",
       "  <thead>\n",
       "    <tr style=\"text-align: right;\">\n",
       "      <th></th>\n",
       "      <th>driver_uuid</th>\n",
       "      <th>license_plate</th>\n",
       "    </tr>\n",
       "  </thead>\n",
       "  <tbody>\n",
       "    <tr>\n",
       "      <th>0</th>\n",
       "      <td>f794daa1e63029828ec58248549815d2</td>\n",
       "      <td>GFF3365</td>\n",
       "    </tr>\n",
       "    <tr>\n",
       "      <th>1</th>\n",
       "      <td>f794daa1e63029828ec58248549815d2</td>\n",
       "      <td>VUG7492</td>\n",
       "    </tr>\n",
       "    <tr>\n",
       "      <th>2</th>\n",
       "      <td>f794daa1e63029828ec58248549815d2</td>\n",
       "      <td>WRW9011</td>\n",
       "    </tr>\n",
       "    <tr>\n",
       "      <th>3</th>\n",
       "      <td>f794daa1e63029828ec58248549815d2</td>\n",
       "      <td>MEP7750</td>\n",
       "    </tr>\n",
       "    <tr>\n",
       "      <th>4</th>\n",
       "      <td>f794daa1e63029828ec58248549815d2</td>\n",
       "      <td>TGB5317</td>\n",
       "    </tr>\n",
       "  </tbody>\n",
       "</table>\n",
       "</div>"
      ],
      "text/plain": [
       "                        driver_uuid license_plate\n",
       "0  f794daa1e63029828ec58248549815d2       GFF3365\n",
       "1  f794daa1e63029828ec58248549815d2       VUG7492\n",
       "2  f794daa1e63029828ec58248549815d2       WRW9011\n",
       "3  f794daa1e63029828ec58248549815d2       MEP7750\n",
       "4  f794daa1e63029828ec58248549815d2       TGB5317"
      ]
     },
     "execution_count": 3,
     "metadata": {},
     "output_type": "execute_result"
    }
   ],
   "source": [
    "df.head()"
   ]
  },
  {
   "cell_type": "code",
   "execution_count": 4,
   "metadata": {},
   "outputs": [],
   "source": [
    "#Remove duplicates and null values\n",
    "df.drop_duplicates(keep='first', inplace=True)\n",
    "df.dropna(inplace=True)\n",
    "\n",
    "#Validate driver_uuid\n",
    "df = df[df['driver_uuid'].str.len() == 32]\n",
    "\n",
    "#Validate license_plate\n",
    "regex = '^[A-Z]{3}[0-9]{4}'\n",
    "df = df[(df['license_plate'].str.contains(regex, regex=True))]"
   ]
  },
  {
   "cell_type": "code",
   "execution_count": 5,
   "metadata": {},
   "outputs": [
    {
     "name": "stdout",
     "output_type": "stream",
     "text": [
      "['GGH4862', 'XLV7496']\r\n",
      "['TQM1200', 'DME1040', 'LGN2352']\r\n",
      "['COW4700', 'IWB3665', 'OKE2560', 'CWD5656']\r\n",
      "['BNP4738', 'DFB4890', 'EJL1388', 'FQD8091']\r\n",
      "['BHI3579', 'DBX9467', 'XOC4014']\r\n",
      "['GFF3365', 'VUG7492', 'WRW9011', 'MEP7750', 'TGB5317', 'AND5285']\r\n",
      "\n"
     ]
    }
   ],
   "source": [
    "df = df.groupby('driver_uuid')['license_plate'].apply(list)\n",
    "print(df.to_csv(sep='\\t', index=False, header=False))"
   ]
  },
  {
   "cell_type": "code",
   "execution_count": 6,
   "metadata": {},
   "outputs": [
    {
     "name": "stdout",
     "output_type": "stream",
     "text": [
      "0eb9a9f7a3fd598c885c67af75645c06\t['GGH4862', 'XLV7496']\r\n",
      "8a0169c4bcdd439e53e6d9171163e67e\t['TQM1200', 'DME1040', 'LGN2352']\r\n",
      "b4490a4fd184cc2f12569750d50ad67c\t['COW4700', 'IWB3665', 'OKE2560', 'CWD5656']\r\n",
      "b56495d149fea002e04438a3369ab532\t['BNP4738', 'DFB4890', 'EJL1388', 'FQD8091']\r\n",
      "ee89076fd9da9bddf5f096b0ca42f8d5\t['BHI3579', 'DBX9467', 'XOC4014']\r\n",
      "f794daa1e63029828ec58248549815d2\t['GFF3365', 'VUG7492', 'WRW9011', 'MEP7750', 'TGB5317', 'AND5285']\r\n",
      "\n"
     ]
    }
   ],
   "source": [
    "#To see user_uuid and license driver\n",
    "print(df.to_csv(sep='\\t', index=True, header=False))"
   ]
  }
 ],
 "metadata": {
  "kernelspec": {
   "display_name": "Python 3",
   "language": "python",
   "name": "python3"
  },
  "language_info": {
   "codemirror_mode": {
    "name": "ipython",
    "version": 3
   },
   "file_extension": ".py",
   "mimetype": "text/x-python",
   "name": "python",
   "nbconvert_exporter": "python",
   "pygments_lexer": "ipython3",
   "version": "3.6.3"
  }
 },
 "nbformat": 4,
 "nbformat_minor": 2
}
